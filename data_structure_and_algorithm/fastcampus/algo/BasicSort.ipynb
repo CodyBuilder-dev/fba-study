{
 "metadata": {
  "language_info": {
   "codemirror_mode": {
    "name": "ipython",
    "version": 3
   },
   "file_extension": ".py",
   "mimetype": "text/x-python",
   "name": "python",
   "nbconvert_exporter": "python",
   "pygments_lexer": "ipython3",
   "version": "3.7.6-final"
  },
  "orig_nbformat": 2,
  "kernelspec": {
   "name": "python_defaultSpec_1598794840644",
   "display_name": "Python 3.7.6 64-bit ('data37': conda)"
  }
 },
 "nbformat": 4,
 "nbformat_minor": 2,
 "cells": [
  {
   "cell_type": "markdown",
   "metadata": {},
   "source": [
    "# 정렬이란\n",
    "- 개념 : 자료를 크기 순서대로 정렬하는 것\n",
    "- 쓰는 이유 : 정렬된 자료구조에서는 수많은 문제들을 쉽게 해결할 수 있다.\n",
    "    - 그렇기 때문에, 평생을 정렬만 연구하는 전문가들도 있으며, 정렬을 빨리 하는 법을 알아내기만 해도 논문감이다."
   ]
  },
  {
   "cell_type": "markdown",
   "metadata": {},
   "source": [
    "## 버블 정렬\n",
    "- 개념 : 앞에서부터 2칸씩 반복해서 비교한다\n",
    "- 결과 : 반드시 한번 수행할 때 마다 가장 큰 값이 뒤로 가게 되어 있다.\n",
    "\n",
    "### 어떻게 코드로 만들까? - 간단한 경우로부터 복잡한 경우로 확장\n",
    "\n",
    "1. 데이터의 길이가 2인 경우, 3인 경우, 4인 경우... 순으로 확장한다\n",
    "2. 패턴을 찾아내서 이를 수도 코드로 만들어 낸다\n",
    "3. 수도코드를 실제 코드로 구현한다\n"
   ]
  },
  {
   "cell_type": "code",
   "execution_count": null,
   "metadata": {},
   "outputs": [],
   "source": [
    "# 1차적으로 작성된 수도 코드\n",
    "for turn in range(데이터길이 - 1) :  \n",
    "    for index in range(데이터길이 - turn - 1) :\n",
    "        if (앞 > 뒤) :\n",
    "            swap(앞,뒤)\n",
    "\n"
   ]
  },
  {
   "cell_type": "code",
   "execution_count": null,
   "metadata": {},
   "outputs": [],
   "source": [
    "# 2차 최적화 : 턴이 끝났는데 한 번도 swap이 일어나지 않았다면, 이미 정렬이 완료된 것이다.\n",
    "for turn in range(데이터길이 - 1) :\n",
    "    swap_cnt = 0\n",
    "    for index in range(데이터길이 - turn - 1) :\n",
    "        if (앞 > 뒤) :\n",
    "            swap(앞,뒤)\n",
    "            swap_cnt += 1\n",
    "    if (swap_cnt == 0) : break"
   ]
  },
  {
   "cell_type": "code",
   "execution_count": 20,
   "metadata": {},
   "outputs": [],
   "source": [
    "# 3차 최종 코드 작성\n",
    "def bubbleSort(data) :\n",
    "    for turn in range(len(data) - 1) :\n",
    "        #swap_cnt = 0\n",
    "        isSwap = False # T/F로 하는게 실행시간은 더 줄어듬\n",
    "        for index in range(len(data) - turn - 1) :\n",
    "            if (data[index] > data[index+1]) :\n",
    "                data[index+1],data[index] = data[index],data[index+1]\n",
    "                isSwap = True\n",
    "        if isSwap == False : break\n",
    "    return data"
   ]
  },
  {
   "cell_type": "code",
   "execution_count": 21,
   "metadata": {},
   "outputs": [],
   "source": [
    "# 테스트 코드 작성\n",
    "import random\n",
    "data_list = random.sample(range(100),50)\n",
    "bubbleSort(data_list)"
   ]
  },
  {
   "cell_type": "markdown",
   "metadata": {},
   "source": [
    "### 버블정렬 시간 복잡도\n",
    "최적 : O(N)  \n",
    "최악 : O(N^2/2)"
   ]
  },
  {
   "cell_type": "markdown",
   "metadata": {},
   "source": []
  }
 ]
}